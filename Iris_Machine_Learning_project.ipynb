{
  "nbformat": 4,
  "nbformat_minor": 0,
  "metadata": {
    "colab": {
      "provenance": [],
      "toc_visible": true
    },
    "kernelspec": {
      "name": "python3",
      "display_name": "Python 3"
    },
    "language_info": {
      "name": "python"
    }
  },
  "cells": [
    {
      "cell_type": "markdown",
      "source": [
        "#Load the required library"
      ],
      "metadata": {
        "id": "wWCqXq--70Rh"
      }
    },
    {
      "cell_type": "code",
      "execution_count": null,
      "metadata": {
        "id": "laCtxR6D4l7r"
      },
      "outputs": [],
      "source": [
        "import numpy as np\n",
        "import pandas as pd\n",
        "import matplotlib.pyplot as plt\n",
        "import seaborn as sns\n",
        "from sklearn.model_selection import train_test_split\n",
        "from sklearn.linear_model import LinearRegression,LogisticRegression\n",
        "from sklearn.tree import DecisionTreeClassifier\n",
        "from sklearn.ensemble import RandomForestClassifier,AdaBoostClassifier,GradientBoostingClassifier\n",
        "from sklearn.metrics import accuracy_score, classification_report, confusion_matrix\n",
        "from sklearn.datasets import load_iris\n",
        "from sklearn.preprocessing import StandardScaler\n",
        "from sklearn.svm import SVC"
      ]
    },
    {
      "cell_type": "markdown",
      "source": [
        "# Load the dataset"
      ],
      "metadata": {
        "id": "PaUTUshb8AFo"
      }
    },
    {
      "cell_type": "code",
      "source": [
        "iris = load_iris()\n",
        "x, y = iris.data, iris.target"
      ],
      "metadata": {
        "id": "AhyD6Je76F-T"
      },
      "execution_count": null,
      "outputs": []
    },
    {
      "cell_type": "markdown",
      "source": [
        "# split the dataset into train and test"
      ],
      "metadata": {
        "id": "qMUN9EJV8lUS"
      }
    },
    {
      "cell_type": "code",
      "source": [
        "x_train,x_test,y_train,y_test=train_test_split(x,y,test_size=0.2, random_state=42)"
      ],
      "metadata": {
        "id": "UeRn9FpX8OPj"
      },
      "execution_count": null,
      "outputs": []
    },
    {
      "cell_type": "code",
      "source": [
        "x_train = pd.DataFrame(x_train)"
      ],
      "metadata": {
        "id": "jdvunErj8RPq"
      },
      "execution_count": null,
      "outputs": []
    },
    {
      "cell_type": "code",
      "source": [
        "x_train.columns"
      ],
      "metadata": {
        "colab": {
          "base_uri": "https://localhost:8080/"
        },
        "id": "OjgpNOev9V2l",
        "outputId": "e0c9b378-1e6a-4539-c33f-955826d99549"
      },
      "execution_count": null,
      "outputs": [
        {
          "output_type": "execute_result",
          "data": {
            "text/plain": [
              "RangeIndex(start=0, stop=4, step=1)"
            ]
          },
          "metadata": {},
          "execution_count": 19
        }
      ]
    },
    {
      "cell_type": "code",
      "source": [
        "x_train.describe()"
      ],
      "metadata": {
        "colab": {
          "base_uri": "https://localhost:8080/",
          "height": 300
        },
        "id": "7vTKfwXc9mSS",
        "outputId": "da62dbc2-0d44-4487-ebcc-7ce3b2a1952e"
      },
      "execution_count": null,
      "outputs": [
        {
          "output_type": "execute_result",
          "data": {
            "text/plain": [
              "                0           1           2           3\n",
              "count  120.000000  120.000000  120.000000  120.000000\n",
              "mean     5.809167    3.061667    3.726667    1.183333\n",
              "std      0.823805    0.449123    1.752345    0.752289\n",
              "min      4.300000    2.000000    1.000000    0.100000\n",
              "25%      5.100000    2.800000    1.500000    0.300000\n",
              "50%      5.750000    3.000000    4.250000    1.300000\n",
              "75%      6.400000    3.400000    5.100000    1.800000\n",
              "max      7.700000    4.400000    6.700000    2.500000"
            ],
            "text/html": [
              "\n",
              "  <div id=\"df-bab5aeb4-db6e-48bb-8e74-3d6ab765f9b8\" class=\"colab-df-container\">\n",
              "    <div>\n",
              "<style scoped>\n",
              "    .dataframe tbody tr th:only-of-type {\n",
              "        vertical-align: middle;\n",
              "    }\n",
              "\n",
              "    .dataframe tbody tr th {\n",
              "        vertical-align: top;\n",
              "    }\n",
              "\n",
              "    .dataframe thead th {\n",
              "        text-align: right;\n",
              "    }\n",
              "</style>\n",
              "<table border=\"1\" class=\"dataframe\">\n",
              "  <thead>\n",
              "    <tr style=\"text-align: right;\">\n",
              "      <th></th>\n",
              "      <th>0</th>\n",
              "      <th>1</th>\n",
              "      <th>2</th>\n",
              "      <th>3</th>\n",
              "    </tr>\n",
              "  </thead>\n",
              "  <tbody>\n",
              "    <tr>\n",
              "      <th>count</th>\n",
              "      <td>120.000000</td>\n",
              "      <td>120.000000</td>\n",
              "      <td>120.000000</td>\n",
              "      <td>120.000000</td>\n",
              "    </tr>\n",
              "    <tr>\n",
              "      <th>mean</th>\n",
              "      <td>5.809167</td>\n",
              "      <td>3.061667</td>\n",
              "      <td>3.726667</td>\n",
              "      <td>1.183333</td>\n",
              "    </tr>\n",
              "    <tr>\n",
              "      <th>std</th>\n",
              "      <td>0.823805</td>\n",
              "      <td>0.449123</td>\n",
              "      <td>1.752345</td>\n",
              "      <td>0.752289</td>\n",
              "    </tr>\n",
              "    <tr>\n",
              "      <th>min</th>\n",
              "      <td>4.300000</td>\n",
              "      <td>2.000000</td>\n",
              "      <td>1.000000</td>\n",
              "      <td>0.100000</td>\n",
              "    </tr>\n",
              "    <tr>\n",
              "      <th>25%</th>\n",
              "      <td>5.100000</td>\n",
              "      <td>2.800000</td>\n",
              "      <td>1.500000</td>\n",
              "      <td>0.300000</td>\n",
              "    </tr>\n",
              "    <tr>\n",
              "      <th>50%</th>\n",
              "      <td>5.750000</td>\n",
              "      <td>3.000000</td>\n",
              "      <td>4.250000</td>\n",
              "      <td>1.300000</td>\n",
              "    </tr>\n",
              "    <tr>\n",
              "      <th>75%</th>\n",
              "      <td>6.400000</td>\n",
              "      <td>3.400000</td>\n",
              "      <td>5.100000</td>\n",
              "      <td>1.800000</td>\n",
              "    </tr>\n",
              "    <tr>\n",
              "      <th>max</th>\n",
              "      <td>7.700000</td>\n",
              "      <td>4.400000</td>\n",
              "      <td>6.700000</td>\n",
              "      <td>2.500000</td>\n",
              "    </tr>\n",
              "  </tbody>\n",
              "</table>\n",
              "</div>\n",
              "    <div class=\"colab-df-buttons\">\n",
              "\n",
              "  <div class=\"colab-df-container\">\n",
              "    <button class=\"colab-df-convert\" onclick=\"convertToInteractive('df-bab5aeb4-db6e-48bb-8e74-3d6ab765f9b8')\"\n",
              "            title=\"Convert this dataframe to an interactive table.\"\n",
              "            style=\"display:none;\">\n",
              "\n",
              "  <svg xmlns=\"http://www.w3.org/2000/svg\" height=\"24px\" viewBox=\"0 -960 960 960\">\n",
              "    <path d=\"M120-120v-720h720v720H120Zm60-500h600v-160H180v160Zm220 220h160v-160H400v160Zm0 220h160v-160H400v160ZM180-400h160v-160H180v160Zm440 0h160v-160H620v160ZM180-180h160v-160H180v160Zm440 0h160v-160H620v160Z\"/>\n",
              "  </svg>\n",
              "    </button>\n",
              "\n",
              "  <style>\n",
              "    .colab-df-container {\n",
              "      display:flex;\n",
              "      gap: 12px;\n",
              "    }\n",
              "\n",
              "    .colab-df-convert {\n",
              "      background-color: #E8F0FE;\n",
              "      border: none;\n",
              "      border-radius: 50%;\n",
              "      cursor: pointer;\n",
              "      display: none;\n",
              "      fill: #1967D2;\n",
              "      height: 32px;\n",
              "      padding: 0 0 0 0;\n",
              "      width: 32px;\n",
              "    }\n",
              "\n",
              "    .colab-df-convert:hover {\n",
              "      background-color: #E2EBFA;\n",
              "      box-shadow: 0px 1px 2px rgba(60, 64, 67, 0.3), 0px 1px 3px 1px rgba(60, 64, 67, 0.15);\n",
              "      fill: #174EA6;\n",
              "    }\n",
              "\n",
              "    .colab-df-buttons div {\n",
              "      margin-bottom: 4px;\n",
              "    }\n",
              "\n",
              "    [theme=dark] .colab-df-convert {\n",
              "      background-color: #3B4455;\n",
              "      fill: #D2E3FC;\n",
              "    }\n",
              "\n",
              "    [theme=dark] .colab-df-convert:hover {\n",
              "      background-color: #434B5C;\n",
              "      box-shadow: 0px 1px 3px 1px rgba(0, 0, 0, 0.15);\n",
              "      filter: drop-shadow(0px 1px 2px rgba(0, 0, 0, 0.3));\n",
              "      fill: #FFFFFF;\n",
              "    }\n",
              "  </style>\n",
              "\n",
              "    <script>\n",
              "      const buttonEl =\n",
              "        document.querySelector('#df-bab5aeb4-db6e-48bb-8e74-3d6ab765f9b8 button.colab-df-convert');\n",
              "      buttonEl.style.display =\n",
              "        google.colab.kernel.accessAllowed ? 'block' : 'none';\n",
              "\n",
              "      async function convertToInteractive(key) {\n",
              "        const element = document.querySelector('#df-bab5aeb4-db6e-48bb-8e74-3d6ab765f9b8');\n",
              "        const dataTable =\n",
              "          await google.colab.kernel.invokeFunction('convertToInteractive',\n",
              "                                                    [key], {});\n",
              "        if (!dataTable) return;\n",
              "\n",
              "        const docLinkHtml = 'Like what you see? Visit the ' +\n",
              "          '<a target=\"_blank\" href=https://colab.research.google.com/notebooks/data_table.ipynb>data table notebook</a>'\n",
              "          + ' to learn more about interactive tables.';\n",
              "        element.innerHTML = '';\n",
              "        dataTable['output_type'] = 'display_data';\n",
              "        await google.colab.output.renderOutput(dataTable, element);\n",
              "        const docLink = document.createElement('div');\n",
              "        docLink.innerHTML = docLinkHtml;\n",
              "        element.appendChild(docLink);\n",
              "      }\n",
              "    </script>\n",
              "  </div>\n",
              "\n",
              "\n",
              "<div id=\"df-e70d9209-7827-4e0f-bd9f-efea5b088f2e\">\n",
              "  <button class=\"colab-df-quickchart\" onclick=\"quickchart('df-e70d9209-7827-4e0f-bd9f-efea5b088f2e')\"\n",
              "            title=\"Suggest charts\"\n",
              "            style=\"display:none;\">\n",
              "\n",
              "<svg xmlns=\"http://www.w3.org/2000/svg\" height=\"24px\"viewBox=\"0 0 24 24\"\n",
              "     width=\"24px\">\n",
              "    <g>\n",
              "        <path d=\"M19 3H5c-1.1 0-2 .9-2 2v14c0 1.1.9 2 2 2h14c1.1 0 2-.9 2-2V5c0-1.1-.9-2-2-2zM9 17H7v-7h2v7zm4 0h-2V7h2v10zm4 0h-2v-4h2v4z\"/>\n",
              "    </g>\n",
              "</svg>\n",
              "  </button>\n",
              "\n",
              "<style>\n",
              "  .colab-df-quickchart {\n",
              "      --bg-color: #E8F0FE;\n",
              "      --fill-color: #1967D2;\n",
              "      --hover-bg-color: #E2EBFA;\n",
              "      --hover-fill-color: #174EA6;\n",
              "      --disabled-fill-color: #AAA;\n",
              "      --disabled-bg-color: #DDD;\n",
              "  }\n",
              "\n",
              "  [theme=dark] .colab-df-quickchart {\n",
              "      --bg-color: #3B4455;\n",
              "      --fill-color: #D2E3FC;\n",
              "      --hover-bg-color: #434B5C;\n",
              "      --hover-fill-color: #FFFFFF;\n",
              "      --disabled-bg-color: #3B4455;\n",
              "      --disabled-fill-color: #666;\n",
              "  }\n",
              "\n",
              "  .colab-df-quickchart {\n",
              "    background-color: var(--bg-color);\n",
              "    border: none;\n",
              "    border-radius: 50%;\n",
              "    cursor: pointer;\n",
              "    display: none;\n",
              "    fill: var(--fill-color);\n",
              "    height: 32px;\n",
              "    padding: 0;\n",
              "    width: 32px;\n",
              "  }\n",
              "\n",
              "  .colab-df-quickchart:hover {\n",
              "    background-color: var(--hover-bg-color);\n",
              "    box-shadow: 0 1px 2px rgba(60, 64, 67, 0.3), 0 1px 3px 1px rgba(60, 64, 67, 0.15);\n",
              "    fill: var(--button-hover-fill-color);\n",
              "  }\n",
              "\n",
              "  .colab-df-quickchart-complete:disabled,\n",
              "  .colab-df-quickchart-complete:disabled:hover {\n",
              "    background-color: var(--disabled-bg-color);\n",
              "    fill: var(--disabled-fill-color);\n",
              "    box-shadow: none;\n",
              "  }\n",
              "\n",
              "  .colab-df-spinner {\n",
              "    border: 2px solid var(--fill-color);\n",
              "    border-color: transparent;\n",
              "    border-bottom-color: var(--fill-color);\n",
              "    animation:\n",
              "      spin 1s steps(1) infinite;\n",
              "  }\n",
              "\n",
              "  @keyframes spin {\n",
              "    0% {\n",
              "      border-color: transparent;\n",
              "      border-bottom-color: var(--fill-color);\n",
              "      border-left-color: var(--fill-color);\n",
              "    }\n",
              "    20% {\n",
              "      border-color: transparent;\n",
              "      border-left-color: var(--fill-color);\n",
              "      border-top-color: var(--fill-color);\n",
              "    }\n",
              "    30% {\n",
              "      border-color: transparent;\n",
              "      border-left-color: var(--fill-color);\n",
              "      border-top-color: var(--fill-color);\n",
              "      border-right-color: var(--fill-color);\n",
              "    }\n",
              "    40% {\n",
              "      border-color: transparent;\n",
              "      border-right-color: var(--fill-color);\n",
              "      border-top-color: var(--fill-color);\n",
              "    }\n",
              "    60% {\n",
              "      border-color: transparent;\n",
              "      border-right-color: var(--fill-color);\n",
              "    }\n",
              "    80% {\n",
              "      border-color: transparent;\n",
              "      border-right-color: var(--fill-color);\n",
              "      border-bottom-color: var(--fill-color);\n",
              "    }\n",
              "    90% {\n",
              "      border-color: transparent;\n",
              "      border-bottom-color: var(--fill-color);\n",
              "    }\n",
              "  }\n",
              "</style>\n",
              "\n",
              "  <script>\n",
              "    async function quickchart(key) {\n",
              "      const quickchartButtonEl =\n",
              "        document.querySelector('#' + key + ' button');\n",
              "      quickchartButtonEl.disabled = true;  // To prevent multiple clicks.\n",
              "      quickchartButtonEl.classList.add('colab-df-spinner');\n",
              "      try {\n",
              "        const charts = await google.colab.kernel.invokeFunction(\n",
              "            'suggestCharts', [key], {});\n",
              "      } catch (error) {\n",
              "        console.error('Error during call to suggestCharts:', error);\n",
              "      }\n",
              "      quickchartButtonEl.classList.remove('colab-df-spinner');\n",
              "      quickchartButtonEl.classList.add('colab-df-quickchart-complete');\n",
              "    }\n",
              "    (() => {\n",
              "      let quickchartButtonEl =\n",
              "        document.querySelector('#df-e70d9209-7827-4e0f-bd9f-efea5b088f2e button');\n",
              "      quickchartButtonEl.style.display =\n",
              "        google.colab.kernel.accessAllowed ? 'block' : 'none';\n",
              "    })();\n",
              "  </script>\n",
              "</div>\n",
              "\n",
              "    </div>\n",
              "  </div>\n"
            ],
            "application/vnd.google.colaboratory.intrinsic+json": {
              "type": "dataframe",
              "summary": "{\n  \"name\": \"x_train\",\n  \"rows\": 8,\n  \"fields\": [\n    {\n      \"column\": 0,\n      \"properties\": {\n        \"dtype\": \"number\",\n        \"std\": 40.66377813095575,\n        \"min\": 0.82380505090996,\n        \"max\": 120.0,\n        \"num_unique_values\": 8,\n        \"samples\": [\n          5.809166666666666,\n          5.75,\n          120.0\n        ],\n        \"semantic_type\": \"\",\n        \"description\": \"\"\n      }\n    },\n    {\n      \"column\": 1,\n      \"properties\": {\n        \"dtype\": \"number\",\n        \"std\": 41.476945469661935,\n        \"min\": 0.44912301721670594,\n        \"max\": 120.0,\n        \"num_unique_values\": 8,\n        \"samples\": [\n          3.0616666666666665,\n          3.0,\n          120.0\n        ],\n        \"semantic_type\": \"\",\n        \"description\": \"\"\n      }\n    },\n    {\n      \"column\": 2,\n      \"properties\": {\n        \"dtype\": \"number\",\n        \"std\": 41.25898472935274,\n        \"min\": 1.0,\n        \"max\": 120.0,\n        \"num_unique_values\": 8,\n        \"samples\": [\n          3.7266666666666666,\n          4.25,\n          120.0\n        ],\n        \"semantic_type\": \"\",\n        \"description\": \"\"\n      }\n    },\n    {\n      \"column\": 3,\n      \"properties\": {\n        \"dtype\": \"number\",\n        \"std\": 42.032820154812036,\n        \"min\": 0.1,\n        \"max\": 120.0,\n        \"num_unique_values\": 8,\n        \"samples\": [\n          1.1833333333333333,\n          1.3,\n          120.0\n        ],\n        \"semantic_type\": \"\",\n        \"description\": \"\"\n      }\n    }\n  ]\n}"
            }
          },
          "metadata": {},
          "execution_count": 20
        }
      ]
    },
    {
      "cell_type": "code",
      "source": [
        "x_train.info()"
      ],
      "metadata": {
        "colab": {
          "base_uri": "https://localhost:8080/"
        },
        "id": "_8OrANDN9s3M",
        "outputId": "d095959d-de08-4b7e-e658-39c1d36881c3"
      },
      "execution_count": null,
      "outputs": [
        {
          "output_type": "stream",
          "name": "stdout",
          "text": [
            "<class 'pandas.core.frame.DataFrame'>\n",
            "RangeIndex: 120 entries, 0 to 119\n",
            "Data columns (total 4 columns):\n",
            " #   Column  Non-Null Count  Dtype  \n",
            "---  ------  --------------  -----  \n",
            " 0   0       120 non-null    float64\n",
            " 1   1       120 non-null    float64\n",
            " 2   2       120 non-null    float64\n",
            " 3   3       120 non-null    float64\n",
            "dtypes: float64(4)\n",
            "memory usage: 3.9 KB\n"
          ]
        }
      ]
    },
    {
      "cell_type": "markdown",
      "source": [
        "# Standardize features"
      ],
      "metadata": {
        "id": "gUeVrEtb968P"
      }
    },
    {
      "cell_type": "code",
      "source": [
        "scaler = StandardScaler()\n",
        "x_train_scaled = scaler.fit_transform(x_train)\n",
        "x_test_scaled = scaler.transform(x_test)"
      ],
      "metadata": {
        "id": "qVT-VfuH99Hk"
      },
      "execution_count": null,
      "outputs": []
    },
    {
      "cell_type": "code",
      "source": [
        "x_train_scaled"
      ],
      "metadata": {
        "colab": {
          "base_uri": "https://localhost:8080/"
        },
        "id": "XS80Wc4U-B1C",
        "outputId": "480e6341-a785-4c97-8460-785c243cf93b"
      },
      "execution_count": null,
      "outputs": [
        {
          "output_type": "execute_result",
          "data": {
            "text/plain": [
              "array([[-1.47393679,  1.20365799, -1.56253475, -1.31260282],\n",
              "       [-0.13307079,  2.99237573, -1.27600637, -1.04563275],\n",
              "       [ 1.08589829,  0.08570939,  0.38585821,  0.28921757],\n",
              "       [-1.23014297,  0.75647855, -1.2187007 , -1.31260282],\n",
              "       [-1.7177306 ,  0.30929911, -1.39061772, -1.31260282],\n",
              "       [ 0.59831066, -1.25582892,  0.72969227,  0.95664273],\n",
              "       [ 0.72020757,  0.30929911,  0.44316389,  0.4227026 ],\n",
              "       [-0.74255534,  0.98006827, -1.27600637, -1.31260282],\n",
              "       [-0.98634915,  1.20365799, -1.33331205, -1.31260282],\n",
              "       [-0.74255534,  2.32160658, -1.27600637, -1.44608785],\n",
              "       [-0.01117388, -0.80864948,  0.78699794,  0.95664273],\n",
              "       [ 0.23261993,  0.75647855,  0.44316389,  0.55618763],\n",
              "       [ 1.08589829,  0.08570939,  0.55777524,  0.4227026 ],\n",
              "       [-0.49876152,  1.87442714, -1.39061772, -1.04563275],\n",
              "       [-0.49876152,  1.4272477 , -1.27600637, -1.31260282],\n",
              "       [-0.37686461, -1.47941864, -0.01528151, -0.24472256],\n",
              "       [ 0.59831066, -0.58505976,  0.78699794,  0.4227026 ],\n",
              "       [ 0.72020757,  0.08570939,  1.01622064,  0.8231577 ],\n",
              "       [ 0.96400139, -0.13788033,  0.38585821,  0.28921757],\n",
              "       [ 1.69538284,  1.20365799,  1.3600547 ,  1.75755292],\n",
              "       [-0.13307079, -0.36147005,  0.27124686,  0.15573254],\n",
              "       [ 2.18297047, -0.13788033,  1.64658307,  1.22361279],\n",
              "       [-0.2549677 , -0.13788033,  0.44316389,  0.4227026 ],\n",
              "       [-0.86445224,  0.98006827, -1.33331205, -1.31260282],\n",
              "       [ 2.30486738, -0.58505976,  1.70388875,  1.09012776],\n",
              "       [-0.01117388, -0.80864948,  0.21394119, -0.24472256],\n",
              "       [-0.74255534,  0.75647855, -1.33331205, -1.31260282],\n",
              "       [-0.98634915,  0.98006827, -1.39061772, -1.17911778],\n",
              "       [-0.86445224,  1.65083742, -1.04678367, -1.04563275],\n",
              "       [-0.98634915, -2.37377751, -0.12989286, -0.24472256],\n",
              "       [ 0.59831066, -0.80864948,  0.67238659,  0.8231577 ],\n",
              "       [-1.23014297,  0.75647855, -1.04678367, -1.31260282],\n",
              "       [-0.98634915, -0.13788033, -1.2187007 , -1.31260282],\n",
              "       [-0.86445224,  0.53288883, -1.16139502, -0.91214772],\n",
              "       [-0.2549677 , -0.80864948,  0.27124686,  0.15573254],\n",
              "       [-0.86445224,  0.75647855, -1.27600637, -1.31260282],\n",
              "       [-0.13307079, -0.13788033,  0.27124686,  0.02224751],\n",
              "       [ 2.30486738,  1.65083742,  1.70388875,  1.35709783],\n",
              "       [-1.47393679,  0.30929911, -1.33331205, -1.31260282],\n",
              "       [ 0.47641375, -0.36147005,  0.32855254,  0.15573254],\n",
              "       [-0.13307079, -1.25582892,  0.72969227,  1.09012776],\n",
              "       [-0.37686461,  2.5451963 , -1.33331205, -1.31260282],\n",
              "       [ 0.23261993, -0.13788033,  0.61508092,  0.8231577 ],\n",
              "       [-0.01117388, -0.80864948,  0.78699794,  0.95664273],\n",
              "       [ 0.23261993, -1.92659808,  0.15663551, -0.24472256],\n",
              "       [-0.49876152, -0.13788033,  0.44316389,  0.4227026 ],\n",
              "       [ 0.47641375,  0.75647855,  0.95891497,  1.49058286],\n",
              "       [-0.37686461, -1.70300836,  0.15663551,  0.15573254],\n",
              "       [-0.49876152,  1.87442714, -1.16139502, -1.04563275],\n",
              "       [-0.98634915, -1.70300836, -0.24450422, -0.24472256],\n",
              "       [ 0.72020757, -0.80864948,  0.90160929,  0.95664273],\n",
              "       [-0.98634915,  0.53288883, -1.33331205, -1.31260282],\n",
              "       [-0.98634915,  0.30929911, -1.4479234 , -1.31260282],\n",
              "       [-0.37686461, -1.47941864,  0.04202416, -0.11123753],\n",
              "       [ 1.08589829, -0.13788033,  0.72969227,  0.68967267],\n",
              "       [-1.10824606,  0.08570939, -1.27600637, -1.31260282],\n",
              "       [-0.01117388, -0.58505976,  0.78699794,  1.62406789],\n",
              "       [-0.98634915,  0.75647855, -1.27600637, -1.31260282],\n",
              "       [-0.98634915,  0.98006827, -1.2187007 , -0.77866269],\n",
              "       [ 0.11072303,  0.30929911,  0.61508092,  0.8231577 ],\n",
              "       [-0.86445224, -1.25582892, -0.41642124, -0.11123753],\n",
              "       [ 1.32969211,  0.30929911,  1.130832  ,  1.49058286],\n",
              "       [ 0.23261993, -0.80864948,  0.78699794,  0.55618763],\n",
              "       [ 0.35451684, -1.0322392 ,  1.07352632,  0.28921757],\n",
              "       [ 2.30486738, -0.13788033,  1.3600547 ,  1.49058286],\n",
              "       [-0.37686461, -1.25582892,  0.15663551,  0.15573254],\n",
              "       [-1.7177306 , -0.36147005, -1.33331205, -1.31260282],\n",
              "       [-1.83962751, -0.13788033, -1.50522907, -1.44608785],\n",
              "       [ 0.23261993, -1.92659808,  0.72969227,  0.4227026 ],\n",
              "       [ 1.69538284,  0.30929911,  1.30274902,  0.8231577 ],\n",
              "       [-1.47393679,  0.08570939, -1.27600637, -1.31260282],\n",
              "       [-0.86445224,  0.98006827, -1.33331205, -1.17911778],\n",
              "       [-1.7177306 , -0.13788033, -1.39061772, -1.31260282],\n",
              "       [ 0.59831066, -1.25582892,  0.67238659,  0.4227026 ],\n",
              "       [ 0.59831066,  0.75647855,  1.07352632,  1.62406789],\n",
              "       [-1.47393679,  0.75647855, -1.33331205, -1.17911778],\n",
              "       [ 1.2077952 , -0.13788033,  1.01622064,  1.22361279],\n",
              "       [ 0.59831066,  0.53288883,  1.30274902,  1.75755292],\n",
              "       [-1.35203988,  0.30929911, -1.39061772, -1.31260282],\n",
              "       [ 0.35451684, -0.36147005,  0.55777524,  0.28921757],\n",
              "       [ 0.84210448, -0.58505976,  0.50046957,  0.4227026 ],\n",
              "       [ 0.47641375, -0.58505976,  0.61508092,  0.8231577 ],\n",
              "       [ 1.45158902,  0.30929911,  0.55777524,  0.28921757],\n",
              "       [ 0.72020757,  0.30929911,  0.90160929,  1.49058286],\n",
              "       [-0.86445224,  1.65083742, -1.2187007 , -1.31260282],\n",
              "       [ 1.32969211,  0.08570939,  0.95891497,  1.22361279],\n",
              "       [ 0.11072303, -0.13788033,  0.27124686,  0.4227026 ],\n",
              "       [ 0.84210448, -0.13788033,  0.84430362,  1.09012776],\n",
              "       [-0.13307079, -1.0322392 , -0.12989286, -0.24472256],\n",
              "       [-0.74255534, -0.80864948,  0.09932984,  0.28921757],\n",
              "       [ 0.35451684, -0.13788033,  0.50046957,  0.28921757],\n",
              "       [-1.5958337 , -1.70300836, -1.39061772, -1.17911778],\n",
              "       [ 0.96400139, -0.36147005,  0.50046957,  0.15573254],\n",
              "       [-0.37686461, -1.0322392 ,  0.38585821,  0.02224751],\n",
              "       [-0.62065843,  1.4272477 , -1.27600637, -1.31260282],\n",
              "       [-0.2549677 , -0.13788033,  0.21394119,  0.15573254],\n",
              "       [ 1.81727975, -0.36147005,  1.47466605,  0.8231577 ],\n",
              "       [ 1.08589829,  0.53288883,  1.130832  ,  1.22361279],\n",
              "       [-0.86445224,  1.4272477 , -1.27600637, -1.04563275],\n",
              "       [-1.10824606, -1.47941864, -0.24450422, -0.24472256],\n",
              "       [ 1.08589829,  0.53288883,  1.130832  ,  1.75755292],\n",
              "       [ 1.69538284, -0.13788033,  1.18813767,  0.55618763],\n",
              "       [-1.10824606,  1.20365799, -1.33331205, -1.44608785],\n",
              "       [ 1.08589829,  0.08570939,  1.07352632,  1.62406789],\n",
              "       [-1.10824606, -0.13788033, -1.33331205, -1.31260282],\n",
              "       [ 1.32969211,  0.08570939,  0.67238659,  0.4227026 ],\n",
              "       [ 1.93917666, -0.58505976,  1.3600547 ,  0.95664273],\n",
              "       [ 0.59831066, -0.36147005,  1.07352632,  0.8231577 ],\n",
              "       [-0.13307079, -0.58505976,  0.21394119,  0.15573254],\n",
              "       [ 0.84210448, -0.13788033,  1.01622064,  0.8231577 ],\n",
              "       [ 0.59831066, -1.70300836,  0.38585821,  0.15573254],\n",
              "       [ 0.72020757, -0.36147005,  0.32855254,  0.15573254],\n",
              "       [-0.2549677 , -0.58505976,  0.67238659,  1.09012776],\n",
              "       [ 0.11072303, -0.13788033,  0.78699794,  0.8231577 ],\n",
              "       [-0.49876152,  0.75647855, -1.16139502, -1.31260282],\n",
              "       [ 0.35451684, -0.58505976,  0.15663551,  0.15573254],\n",
              "       [-1.10824606, -1.25582892,  0.44316389,  0.68967267],\n",
              "       [-0.01117388,  2.09801686, -1.4479234 , -1.31260282],\n",
              "       [-0.01117388, -1.0322392 ,  0.15663551,  0.02224751],\n",
              "       [ 1.57348593, -0.13788033,  1.24544335,  1.22361279]])"
            ]
          },
          "metadata": {},
          "execution_count": 24
        }
      ]
    },
    {
      "cell_type": "code",
      "source": [
        "x_test_scaled"
      ],
      "metadata": {
        "colab": {
          "base_uri": "https://localhost:8080/"
        },
        "id": "GigVv2Um-PL4",
        "outputId": "8f824cd5-e6c9-40fb-e423-8d9670cb2bb6"
      },
      "execution_count": null,
      "outputs": [
        {
          "output_type": "execute_result",
          "data": {
            "text/plain": [
              "array([[ 0.35451684, -0.58505976,  0.55777524,  0.02224751],\n",
              "       [-0.13307079,  1.65083742, -1.16139502, -1.17911778],\n",
              "       [ 2.30486738, -1.0322392 ,  1.8185001 ,  1.49058286],\n",
              "       [ 0.23261993, -0.36147005,  0.44316389,  0.4227026 ],\n",
              "       [ 1.2077952 , -0.58505976,  0.61508092,  0.28921757],\n",
              "       [-0.49876152,  0.75647855, -1.27600637, -1.04563275],\n",
              "       [-0.2549677 , -0.36147005, -0.07258719,  0.15573254],\n",
              "       [ 1.32969211,  0.08570939,  0.78699794,  1.49058286],\n",
              "       [ 0.47641375, -1.92659808,  0.44316389,  0.4227026 ],\n",
              "       [-0.01117388, -0.80864948,  0.09932984,  0.02224751],\n",
              "       [ 0.84210448,  0.30929911,  0.78699794,  1.09012776],\n",
              "       [-1.23014297, -0.13788033, -1.33331205, -1.44608785],\n",
              "       [-0.37686461,  0.98006827, -1.39061772, -1.31260282],\n",
              "       [-1.10824606,  0.08570939, -1.27600637, -1.44608785],\n",
              "       [-0.86445224,  1.65083742, -1.27600637, -1.17911778],\n",
              "       [ 0.59831066,  0.53288883,  0.55777524,  0.55618763],\n",
              "       [ 0.84210448, -0.13788033,  1.18813767,  1.35709783],\n",
              "       [-0.2549677 , -1.25582892,  0.09932984, -0.11123753],\n",
              "       [-0.13307079, -0.58505976,  0.44316389,  0.15573254],\n",
              "       [ 0.72020757, -0.58505976,  1.07352632,  1.35709783],\n",
              "       [-1.35203988,  0.30929911, -1.2187007 , -1.31260282],\n",
              "       [ 0.35451684, -0.13788033,  0.67238659,  0.8231577 ],\n",
              "       [-0.98634915,  0.75647855, -1.2187007 , -1.04563275],\n",
              "       [ 0.72020757, -0.58505976,  1.07352632,  1.22361279],\n",
              "       [ 2.5486612 ,  1.65083742,  1.53197172,  1.09012776],\n",
              "       [ 1.08589829, -0.13788033,  0.84430362,  1.49058286],\n",
              "       [ 1.08589829, -1.25582892,  1.18813767,  0.8231577 ],\n",
              "       [ 1.2077952 ,  0.30929911,  1.24544335,  1.49058286],\n",
              "       [-1.23014297, -0.13788033, -1.33331205, -1.17911778],\n",
              "       [-1.23014297,  0.08570939, -1.2187007 , -1.31260282]])"
            ]
          },
          "metadata": {},
          "execution_count": 25
        }
      ]
    },
    {
      "cell_type": "markdown",
      "source": [
        "# Train a SVM classifier"
      ],
      "metadata": {
        "id": "OPTF0CIh-clS"
      }
    },
    {
      "cell_type": "code",
      "source": [
        "svm_model = SVC(kernel='linear', random_state=42)\n",
        "svm_model.fit(x_train_scaled, y_train)\n"
      ],
      "metadata": {
        "colab": {
          "base_uri": "https://localhost:8080/",
          "height": 75
        },
        "id": "ZydQZmAy-frh",
        "outputId": "cf9831dd-b8ec-4085-9395-9709ec1d601e"
      },
      "execution_count": null,
      "outputs": [
        {
          "output_type": "execute_result",
          "data": {
            "text/plain": [
              "SVC(kernel='linear', random_state=42)"
            ],
            "text/html": [
              "<style>#sk-container-id-1 {color: black;background-color: white;}#sk-container-id-1 pre{padding: 0;}#sk-container-id-1 div.sk-toggleable {background-color: white;}#sk-container-id-1 label.sk-toggleable__label {cursor: pointer;display: block;width: 100%;margin-bottom: 0;padding: 0.3em;box-sizing: border-box;text-align: center;}#sk-container-id-1 label.sk-toggleable__label-arrow:before {content: \"▸\";float: left;margin-right: 0.25em;color: #696969;}#sk-container-id-1 label.sk-toggleable__label-arrow:hover:before {color: black;}#sk-container-id-1 div.sk-estimator:hover label.sk-toggleable__label-arrow:before {color: black;}#sk-container-id-1 div.sk-toggleable__content {max-height: 0;max-width: 0;overflow: hidden;text-align: left;background-color: #f0f8ff;}#sk-container-id-1 div.sk-toggleable__content pre {margin: 0.2em;color: black;border-radius: 0.25em;background-color: #f0f8ff;}#sk-container-id-1 input.sk-toggleable__control:checked~div.sk-toggleable__content {max-height: 200px;max-width: 100%;overflow: auto;}#sk-container-id-1 input.sk-toggleable__control:checked~label.sk-toggleable__label-arrow:before {content: \"▾\";}#sk-container-id-1 div.sk-estimator input.sk-toggleable__control:checked~label.sk-toggleable__label {background-color: #d4ebff;}#sk-container-id-1 div.sk-label input.sk-toggleable__control:checked~label.sk-toggleable__label {background-color: #d4ebff;}#sk-container-id-1 input.sk-hidden--visually {border: 0;clip: rect(1px 1px 1px 1px);clip: rect(1px, 1px, 1px, 1px);height: 1px;margin: -1px;overflow: hidden;padding: 0;position: absolute;width: 1px;}#sk-container-id-1 div.sk-estimator {font-family: monospace;background-color: #f0f8ff;border: 1px dotted black;border-radius: 0.25em;box-sizing: border-box;margin-bottom: 0.5em;}#sk-container-id-1 div.sk-estimator:hover {background-color: #d4ebff;}#sk-container-id-1 div.sk-parallel-item::after {content: \"\";width: 100%;border-bottom: 1px solid gray;flex-grow: 1;}#sk-container-id-1 div.sk-label:hover label.sk-toggleable__label {background-color: #d4ebff;}#sk-container-id-1 div.sk-serial::before {content: \"\";position: absolute;border-left: 1px solid gray;box-sizing: border-box;top: 0;bottom: 0;left: 50%;z-index: 0;}#sk-container-id-1 div.sk-serial {display: flex;flex-direction: column;align-items: center;background-color: white;padding-right: 0.2em;padding-left: 0.2em;position: relative;}#sk-container-id-1 div.sk-item {position: relative;z-index: 1;}#sk-container-id-1 div.sk-parallel {display: flex;align-items: stretch;justify-content: center;background-color: white;position: relative;}#sk-container-id-1 div.sk-item::before, #sk-container-id-1 div.sk-parallel-item::before {content: \"\";position: absolute;border-left: 1px solid gray;box-sizing: border-box;top: 0;bottom: 0;left: 50%;z-index: -1;}#sk-container-id-1 div.sk-parallel-item {display: flex;flex-direction: column;z-index: 1;position: relative;background-color: white;}#sk-container-id-1 div.sk-parallel-item:first-child::after {align-self: flex-end;width: 50%;}#sk-container-id-1 div.sk-parallel-item:last-child::after {align-self: flex-start;width: 50%;}#sk-container-id-1 div.sk-parallel-item:only-child::after {width: 0;}#sk-container-id-1 div.sk-dashed-wrapped {border: 1px dashed gray;margin: 0 0.4em 0.5em 0.4em;box-sizing: border-box;padding-bottom: 0.4em;background-color: white;}#sk-container-id-1 div.sk-label label {font-family: monospace;font-weight: bold;display: inline-block;line-height: 1.2em;}#sk-container-id-1 div.sk-label-container {text-align: center;}#sk-container-id-1 div.sk-container {/* jupyter's `normalize.less` sets `[hidden] { display: none; }` but bootstrap.min.css set `[hidden] { display: none !important; }` so we also need the `!important` here to be able to override the default hidden behavior on the sphinx rendered scikit-learn.org. See: https://github.com/scikit-learn/scikit-learn/issues/21755 */display: inline-block !important;position: relative;}#sk-container-id-1 div.sk-text-repr-fallback {display: none;}</style><div id=\"sk-container-id-1\" class=\"sk-top-container\"><div class=\"sk-text-repr-fallback\"><pre>SVC(kernel=&#x27;linear&#x27;, random_state=42)</pre><b>In a Jupyter environment, please rerun this cell to show the HTML representation or trust the notebook. <br />On GitHub, the HTML representation is unable to render, please try loading this page with nbviewer.org.</b></div><div class=\"sk-container\" hidden><div class=\"sk-item\"><div class=\"sk-estimator sk-toggleable\"><input class=\"sk-toggleable__control sk-hidden--visually\" id=\"sk-estimator-id-1\" type=\"checkbox\" checked><label for=\"sk-estimator-id-1\" class=\"sk-toggleable__label sk-toggleable__label-arrow\">SVC</label><div class=\"sk-toggleable__content\"><pre>SVC(kernel=&#x27;linear&#x27;, random_state=42)</pre></div></div></div></div></div>"
            ]
          },
          "metadata": {},
          "execution_count": 26
        }
      ]
    },
    {
      "cell_type": "code",
      "source": [
        "svm_predictions = svm_model.predict(x_test_scaled)\n",
        "svm_accuracy = accuracy_score(y_test, svm_predictions)\n",
        "print(\"SVM Accuracy:\", svm_accuracy)\n",
        "print(\"Classification Report:\")\n",
        "print(classification_report(y_test, svm_predictions))"
      ],
      "metadata": {
        "colab": {
          "base_uri": "https://localhost:8080/"
        },
        "id": "6EzGUDs--nPf",
        "outputId": "a3e42f84-efa2-485c-ecbf-69a85bf6bd84"
      },
      "execution_count": null,
      "outputs": [
        {
          "output_type": "stream",
          "name": "stdout",
          "text": [
            "SVM Accuracy: 0.9666666666666667\n",
            "Classification Report:\n",
            "              precision    recall  f1-score   support\n",
            "\n",
            "           0       1.00      1.00      1.00        10\n",
            "           1       1.00      0.89      0.94         9\n",
            "           2       0.92      1.00      0.96        11\n",
            "\n",
            "    accuracy                           0.97        30\n",
            "   macro avg       0.97      0.96      0.97        30\n",
            "weighted avg       0.97      0.97      0.97        30\n",
            "\n"
          ]
        }
      ]
    },
    {
      "cell_type": "markdown",
      "source": [
        "SVM Accuray :97"
      ],
      "metadata": {
        "id": "gS4YB1qM-x-5"
      }
    },
    {
      "cell_type": "markdown",
      "source": [
        "# Train a neural network classifier using scikit-learn"
      ],
      "metadata": {
        "id": "g-6S-dHQ--AL"
      }
    },
    {
      "cell_type": "code",
      "source": [
        "from sklearn.neural_network import MLPClassifier\n",
        "mlp_model = MLPClassifier(hidden_layer_sizes=(10,), max_iter=1000, random_state=42)\n",
        "mlp_model.fit(x_train_scaled, y_train)"
      ],
      "metadata": {
        "colab": {
          "base_uri": "https://localhost:8080/",
          "height": 75
        },
        "id": "IFq7-wxK_BpP",
        "outputId": "d705554d-b2c5-49e2-837f-900359e5b4bc"
      },
      "execution_count": null,
      "outputs": [
        {
          "output_type": "execute_result",
          "data": {
            "text/plain": [
              "MLPClassifier(hidden_layer_sizes=(10,), max_iter=1000, random_state=42)"
            ],
            "text/html": [
              "<style>#sk-container-id-2 {color: black;background-color: white;}#sk-container-id-2 pre{padding: 0;}#sk-container-id-2 div.sk-toggleable {background-color: white;}#sk-container-id-2 label.sk-toggleable__label {cursor: pointer;display: block;width: 100%;margin-bottom: 0;padding: 0.3em;box-sizing: border-box;text-align: center;}#sk-container-id-2 label.sk-toggleable__label-arrow:before {content: \"▸\";float: left;margin-right: 0.25em;color: #696969;}#sk-container-id-2 label.sk-toggleable__label-arrow:hover:before {color: black;}#sk-container-id-2 div.sk-estimator:hover label.sk-toggleable__label-arrow:before {color: black;}#sk-container-id-2 div.sk-toggleable__content {max-height: 0;max-width: 0;overflow: hidden;text-align: left;background-color: #f0f8ff;}#sk-container-id-2 div.sk-toggleable__content pre {margin: 0.2em;color: black;border-radius: 0.25em;background-color: #f0f8ff;}#sk-container-id-2 input.sk-toggleable__control:checked~div.sk-toggleable__content {max-height: 200px;max-width: 100%;overflow: auto;}#sk-container-id-2 input.sk-toggleable__control:checked~label.sk-toggleable__label-arrow:before {content: \"▾\";}#sk-container-id-2 div.sk-estimator input.sk-toggleable__control:checked~label.sk-toggleable__label {background-color: #d4ebff;}#sk-container-id-2 div.sk-label input.sk-toggleable__control:checked~label.sk-toggleable__label {background-color: #d4ebff;}#sk-container-id-2 input.sk-hidden--visually {border: 0;clip: rect(1px 1px 1px 1px);clip: rect(1px, 1px, 1px, 1px);height: 1px;margin: -1px;overflow: hidden;padding: 0;position: absolute;width: 1px;}#sk-container-id-2 div.sk-estimator {font-family: monospace;background-color: #f0f8ff;border: 1px dotted black;border-radius: 0.25em;box-sizing: border-box;margin-bottom: 0.5em;}#sk-container-id-2 div.sk-estimator:hover {background-color: #d4ebff;}#sk-container-id-2 div.sk-parallel-item::after {content: \"\";width: 100%;border-bottom: 1px solid gray;flex-grow: 1;}#sk-container-id-2 div.sk-label:hover label.sk-toggleable__label {background-color: #d4ebff;}#sk-container-id-2 div.sk-serial::before {content: \"\";position: absolute;border-left: 1px solid gray;box-sizing: border-box;top: 0;bottom: 0;left: 50%;z-index: 0;}#sk-container-id-2 div.sk-serial {display: flex;flex-direction: column;align-items: center;background-color: white;padding-right: 0.2em;padding-left: 0.2em;position: relative;}#sk-container-id-2 div.sk-item {position: relative;z-index: 1;}#sk-container-id-2 div.sk-parallel {display: flex;align-items: stretch;justify-content: center;background-color: white;position: relative;}#sk-container-id-2 div.sk-item::before, #sk-container-id-2 div.sk-parallel-item::before {content: \"\";position: absolute;border-left: 1px solid gray;box-sizing: border-box;top: 0;bottom: 0;left: 50%;z-index: -1;}#sk-container-id-2 div.sk-parallel-item {display: flex;flex-direction: column;z-index: 1;position: relative;background-color: white;}#sk-container-id-2 div.sk-parallel-item:first-child::after {align-self: flex-end;width: 50%;}#sk-container-id-2 div.sk-parallel-item:last-child::after {align-self: flex-start;width: 50%;}#sk-container-id-2 div.sk-parallel-item:only-child::after {width: 0;}#sk-container-id-2 div.sk-dashed-wrapped {border: 1px dashed gray;margin: 0 0.4em 0.5em 0.4em;box-sizing: border-box;padding-bottom: 0.4em;background-color: white;}#sk-container-id-2 div.sk-label label {font-family: monospace;font-weight: bold;display: inline-block;line-height: 1.2em;}#sk-container-id-2 div.sk-label-container {text-align: center;}#sk-container-id-2 div.sk-container {/* jupyter's `normalize.less` sets `[hidden] { display: none; }` but bootstrap.min.css set `[hidden] { display: none !important; }` so we also need the `!important` here to be able to override the default hidden behavior on the sphinx rendered scikit-learn.org. See: https://github.com/scikit-learn/scikit-learn/issues/21755 */display: inline-block !important;position: relative;}#sk-container-id-2 div.sk-text-repr-fallback {display: none;}</style><div id=\"sk-container-id-2\" class=\"sk-top-container\"><div class=\"sk-text-repr-fallback\"><pre>MLPClassifier(hidden_layer_sizes=(10,), max_iter=1000, random_state=42)</pre><b>In a Jupyter environment, please rerun this cell to show the HTML representation or trust the notebook. <br />On GitHub, the HTML representation is unable to render, please try loading this page with nbviewer.org.</b></div><div class=\"sk-container\" hidden><div class=\"sk-item\"><div class=\"sk-estimator sk-toggleable\"><input class=\"sk-toggleable__control sk-hidden--visually\" id=\"sk-estimator-id-2\" type=\"checkbox\" checked><label for=\"sk-estimator-id-2\" class=\"sk-toggleable__label sk-toggleable__label-arrow\">MLPClassifier</label><div class=\"sk-toggleable__content\"><pre>MLPClassifier(hidden_layer_sizes=(10,), max_iter=1000, random_state=42)</pre></div></div></div></div></div>"
            ]
          },
          "metadata": {},
          "execution_count": 31
        }
      ]
    },
    {
      "cell_type": "code",
      "source": [
        "mlp_predictions = mlp_model.predict(x_test_scaled)\n",
        "mlp_accuracy = accuracy_score(y_test, mlp_predictions)\n",
        "print(\"\\nMLP Accuracy:\", mlp_accuracy)\n",
        "print(\"Classification Report:\")\n",
        "print(classification_report(y_test, mlp_predictions))"
      ],
      "metadata": {
        "colab": {
          "base_uri": "https://localhost:8080/"
        },
        "id": "l8GbgLBA_E9G",
        "outputId": "35b09025-ea0e-4de3-b079-b6e34b853170"
      },
      "execution_count": null,
      "outputs": [
        {
          "output_type": "stream",
          "name": "stdout",
          "text": [
            "\n",
            "MLP Accuracy: 1.0\n",
            "Classification Report:\n",
            "              precision    recall  f1-score   support\n",
            "\n",
            "           0       1.00      1.00      1.00        10\n",
            "           1       1.00      1.00      1.00         9\n",
            "           2       1.00      1.00      1.00        11\n",
            "\n",
            "    accuracy                           1.00        30\n",
            "   macro avg       1.00      1.00      1.00        30\n",
            "weighted avg       1.00      1.00      1.00        30\n",
            "\n"
          ]
        }
      ]
    },
    {
      "cell_type": "markdown",
      "source": [
        "MLP Accuray:100"
      ],
      "metadata": {
        "id": "9QW3FMdm_hfc"
      }
    },
    {
      "cell_type": "markdown",
      "source": [
        "# Train a neural network classifier using TensorFlow and Keras"
      ],
      "metadata": {
        "id": "iKhPBrsU_ppZ"
      }
    },
    {
      "cell_type": "code",
      "source": [
        "import tensorflow as tf\n",
        "from tensorflow.keras.models import Sequential\n",
        "from tensorflow.keras.layers import Dense"
      ],
      "metadata": {
        "id": "wZKzEief_tnq"
      },
      "execution_count": null,
      "outputs": []
    },
    {
      "cell_type": "code",
      "source": [
        "tf_model = Sequential([\n",
        "    Dense(10, activation='relu', input_shape=(4,)),\n",
        "    Dense(3, activation='softmax')\n",
        "])\n"
      ],
      "metadata": {
        "id": "6-Rr0Xqh_yv-"
      },
      "execution_count": null,
      "outputs": []
    },
    {
      "cell_type": "code",
      "source": [
        "tf_model.compile(optimizer='adam',\n",
        "                 loss='sparse_categorical_crossentropy',\n",
        "                 metrics=['accuracy'])"
      ],
      "metadata": {
        "id": "8Rn5E2P2_5-I"
      },
      "execution_count": null,
      "outputs": []
    },
    {
      "cell_type": "markdown",
      "source": [
        "# Train the model"
      ],
      "metadata": {
        "id": "2_-KkNDnAHu3"
      }
    },
    {
      "cell_type": "code",
      "source": [
        "tf_model.fit(x_train_scaled, y_train, epochs=50, batch_size=1, verbose=1)\n",
        "\n",
        "tf_loss, tf_accuracy = tf_model.evaluate(x_test_scaled, y_test, verbose=0)\n",
        "print(\"\\nTensorFlow Accuracy:\", tf_accuracy)"
      ],
      "metadata": {
        "colab": {
          "base_uri": "https://localhost:8080/"
        },
        "id": "EeCd1AbkABC8",
        "outputId": "42527b99-36ee-4a7d-8977-92d1cc89da0c"
      },
      "execution_count": null,
      "outputs": [
        {
          "output_type": "stream",
          "name": "stdout",
          "text": [
            "Epoch 1/50\n",
            "120/120 [==============================] - 2s 5ms/step - loss: 0.9538 - accuracy: 0.5417\n",
            "Epoch 2/50\n",
            "120/120 [==============================] - 1s 5ms/step - loss: 0.7269 - accuracy: 0.7583\n",
            "Epoch 3/50\n",
            "120/120 [==============================] - 1s 5ms/step - loss: 0.5770 - accuracy: 0.8000\n",
            "Epoch 4/50\n",
            "120/120 [==============================] - 1s 4ms/step - loss: 0.4886 - accuracy: 0.8083\n",
            "Epoch 5/50\n",
            "120/120 [==============================] - 1s 5ms/step - loss: 0.4292 - accuracy: 0.8417\n",
            "Epoch 6/50\n",
            "120/120 [==============================] - 0s 3ms/step - loss: 0.3894 - accuracy: 0.8167\n",
            "Epoch 7/50\n",
            "120/120 [==============================] - 0s 3ms/step - loss: 0.3591 - accuracy: 0.8667\n",
            "Epoch 8/50\n",
            "120/120 [==============================] - 0s 3ms/step - loss: 0.3337 - accuracy: 0.8583\n",
            "Epoch 9/50\n",
            "120/120 [==============================] - 0s 3ms/step - loss: 0.3137 - accuracy: 0.8750\n",
            "Epoch 10/50\n",
            "120/120 [==============================] - 0s 3ms/step - loss: 0.2982 - accuracy: 0.8750\n",
            "Epoch 11/50\n",
            "120/120 [==============================] - 0s 3ms/step - loss: 0.2819 - accuracy: 0.8750\n",
            "Epoch 12/50\n",
            "120/120 [==============================] - 0s 3ms/step - loss: 0.2679 - accuracy: 0.8917\n",
            "Epoch 13/50\n",
            "120/120 [==============================] - 0s 3ms/step - loss: 0.2567 - accuracy: 0.9000\n",
            "Epoch 14/50\n",
            "120/120 [==============================] - 0s 2ms/step - loss: 0.2447 - accuracy: 0.9083\n",
            "Epoch 15/50\n",
            "120/120 [==============================] - 0s 1ms/step - loss: 0.2336 - accuracy: 0.9167\n",
            "Epoch 16/50\n",
            "120/120 [==============================] - 0s 2ms/step - loss: 0.2229 - accuracy: 0.9250\n",
            "Epoch 17/50\n",
            "120/120 [==============================] - 0s 2ms/step - loss: 0.2148 - accuracy: 0.9167\n",
            "Epoch 18/50\n",
            "120/120 [==============================] - 0s 2ms/step - loss: 0.2056 - accuracy: 0.9333\n",
            "Epoch 19/50\n",
            "120/120 [==============================] - 0s 2ms/step - loss: 0.1976 - accuracy: 0.9417\n",
            "Epoch 20/50\n",
            "120/120 [==============================] - 0s 2ms/step - loss: 0.1911 - accuracy: 0.9250\n",
            "Epoch 21/50\n",
            "120/120 [==============================] - 0s 1ms/step - loss: 0.1827 - accuracy: 0.9500\n",
            "Epoch 22/50\n",
            "120/120 [==============================] - 0s 2ms/step - loss: 0.1757 - accuracy: 0.9500\n",
            "Epoch 23/50\n",
            "120/120 [==============================] - 0s 1ms/step - loss: 0.1707 - accuracy: 0.9417\n",
            "Epoch 24/50\n",
            "120/120 [==============================] - 0s 2ms/step - loss: 0.1631 - accuracy: 0.9667\n",
            "Epoch 25/50\n",
            "120/120 [==============================] - 0s 2ms/step - loss: 0.1578 - accuracy: 0.9500\n",
            "Epoch 26/50\n",
            "120/120 [==============================] - 0s 2ms/step - loss: 0.1528 - accuracy: 0.9500\n",
            "Epoch 27/50\n",
            "120/120 [==============================] - 0s 2ms/step - loss: 0.1471 - accuracy: 0.9583\n",
            "Epoch 28/50\n",
            "120/120 [==============================] - 0s 2ms/step - loss: 0.1423 - accuracy: 0.9583\n",
            "Epoch 29/50\n",
            "120/120 [==============================] - 0s 2ms/step - loss: 0.1382 - accuracy: 0.9583\n",
            "Epoch 30/50\n",
            "120/120 [==============================] - 0s 2ms/step - loss: 0.1340 - accuracy: 0.9500\n",
            "Epoch 31/50\n",
            "120/120 [==============================] - 0s 2ms/step - loss: 0.1294 - accuracy: 0.9667\n",
            "Epoch 32/50\n",
            "120/120 [==============================] - 0s 1ms/step - loss: 0.1277 - accuracy: 0.9500\n",
            "Epoch 33/50\n",
            "120/120 [==============================] - 0s 2ms/step - loss: 0.1240 - accuracy: 0.9583\n",
            "Epoch 34/50\n",
            "120/120 [==============================] - 0s 2ms/step - loss: 0.1202 - accuracy: 0.9583\n",
            "Epoch 35/50\n",
            "120/120 [==============================] - 0s 2ms/step - loss: 0.1161 - accuracy: 0.9667\n",
            "Epoch 36/50\n",
            "120/120 [==============================] - 0s 1ms/step - loss: 0.1131 - accuracy: 0.9667\n",
            "Epoch 37/50\n",
            "120/120 [==============================] - 0s 2ms/step - loss: 0.1097 - accuracy: 0.9667\n",
            "Epoch 38/50\n",
            "120/120 [==============================] - 0s 2ms/step - loss: 0.1078 - accuracy: 0.9667\n",
            "Epoch 39/50\n",
            "120/120 [==============================] - 0s 2ms/step - loss: 0.1061 - accuracy: 0.9667\n",
            "Epoch 40/50\n",
            "120/120 [==============================] - 0s 2ms/step - loss: 0.1027 - accuracy: 0.9667\n",
            "Epoch 41/50\n",
            "120/120 [==============================] - 0s 2ms/step - loss: 0.1010 - accuracy: 0.9667\n",
            "Epoch 42/50\n",
            "120/120 [==============================] - 0s 2ms/step - loss: 0.0988 - accuracy: 0.9750\n",
            "Epoch 43/50\n",
            "120/120 [==============================] - 0s 2ms/step - loss: 0.0969 - accuracy: 0.9667\n",
            "Epoch 44/50\n",
            "120/120 [==============================] - 0s 2ms/step - loss: 0.0957 - accuracy: 0.9667\n",
            "Epoch 45/50\n",
            "120/120 [==============================] - 0s 2ms/step - loss: 0.0933 - accuracy: 0.9667\n",
            "Epoch 46/50\n",
            "120/120 [==============================] - 0s 2ms/step - loss: 0.0924 - accuracy: 0.9583\n",
            "Epoch 47/50\n",
            "120/120 [==============================] - 0s 1ms/step - loss: 0.0907 - accuracy: 0.9583\n",
            "Epoch 48/50\n",
            "120/120 [==============================] - 0s 2ms/step - loss: 0.0892 - accuracy: 0.9583\n",
            "Epoch 49/50\n",
            "120/120 [==============================] - 0s 2ms/step - loss: 0.0880 - accuracy: 0.9667\n",
            "Epoch 50/50\n",
            "120/120 [==============================] - 0s 2ms/step - loss: 0.0858 - accuracy: 0.9667\n",
            "\n",
            "TensorFlow Accuracy: 1.0\n"
          ]
        }
      ]
    }
  ]
}